{
 "cells": [
  {
   "cell_type": "markdown",
   "metadata": {},
   "source": [
    "\n",
    "\n",
    "\n",
    "\n"
   ]
  },
  {
   "cell_type": "markdown",
   "metadata": {
    "collapsed": true
   },
   "source": [
    "# Iris data set - Keras\n",
    "We goning to demonstrate machine learning prediction on Iris data set. We gonna create model that will predict species of Iris flower by sepal width, sepal length, petal width, and petal length.\n",
    "\n",
    "## Data set\n",
    "[Iris data set](http://mlr.cs.umass.edu/ml/machine-learning-databases/iris/iris.data) is in the cvs format.\n",
    "\n",
    "### Read set and process\n",
    "We gonna use [pandas](http://pandas.pydata.org/) python library to process raw data."
   ]
  },
  {
   "cell_type": "code",
   "execution_count": 7,
   "metadata": {},
   "outputs": [],
   "source": [
    "import pandas as pd\n",
    "\n",
    "iris_data = pd.read_csv('data/iris.csv') # Using pandas library to read data\n",
    "s_length, s_width, p_length, p_width, iris_type = iris_data[:0], iris_data[1:], iris_data[2:], iris_data[3:], iris_data[4:]\n",
    "print(s_lenght)"
   ]
  },
  {
   "cell_type": "code",
   "execution_count": null,
   "metadata": {
    "collapsed": true
   },
   "outputs": [],
   "source": []
  }
 ],
 "metadata": {
  "kernelspec": {
   "display_name": "Python 3",
   "language": "python",
   "name": "python3"
  },
  "language_info": {
   "codemirror_mode": {
    "name": "ipython",
    "version": 3
   },
   "file_extension": ".py",
   "mimetype": "text/x-python",
   "name": "python",
   "nbconvert_exporter": "python",
   "pygments_lexer": "ipython3",
   "version": "3.6.2"
  }
 },
 "nbformat": 4,
 "nbformat_minor": 2
}
